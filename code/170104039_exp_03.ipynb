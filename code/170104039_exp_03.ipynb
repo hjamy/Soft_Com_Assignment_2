{
  "nbformat": 4,
  "nbformat_minor": 0,
  "metadata": {
    "colab": {
      "name": "170104039_exp_03.ipynb",
      "provenance": [],
      "collapsed_sections": [
        "ELmvZHX7gB7f",
        "vy9i_zJN2x3K",
        "mdAwK4i9hSlj",
        "muXO0kOLMQ4_",
        "59bFd5eI3dOh",
        "8Ln4MpL_8CQE",
        "ooaWornKkW2d",
        "r3OkI1J875jn",
        "6UZqwEqK3oOt"
      ]
    },
    "kernelspec": {
      "name": "python3",
      "display_name": "Python 3"
    },
    "language_info": {
      "name": "python"
    }
  },
  "cells": [
    {
      "cell_type": "markdown",
      "metadata": {
        "id": "ELmvZHX7gB7f"
      },
      "source": [
        "# **Download from Drive**\n",
        "\n",
        "---\n",
        "\n"
      ]
    },
    {
      "cell_type": "code",
      "metadata": {
        "colab": {
          "base_uri": "https://localhost:8080/"
        },
        "id": "WMJVu-eqW9yO",
        "outputId": "64342b2d-1faf-470f-b51b-441cc8ead15a"
      },
      "source": [
        "!gdown --id '1PqJ_d6_LOAKXQsr-0vO3r-hmi-CkeoJO'"
      ],
      "execution_count": 7,
      "outputs": [
        {
          "output_type": "stream",
          "name": "stdout",
          "text": [
            "Downloading...\n",
            "From: https://drive.google.com/uc?id=1PqJ_d6_LOAKXQsr-0vO3r-hmi-CkeoJO\n",
            "To: /content/verification_train.csv\n",
            "133MB [00:01, 110MB/s] \n"
          ]
        }
      ]
    },
    {
      "cell_type": "code",
      "metadata": {
        "colab": {
          "base_uri": "https://localhost:8080/"
        },
        "id": "5ZZIKbLc6beJ",
        "outputId": "62c4cbd4-dbd5-442f-e152-4b2f45db91f1"
      },
      "source": [
        "!gdown --id '1xHX0Hj-iDniA_os8lOTw9x6yiboXj0Pe'"
      ],
      "execution_count": 8,
      "outputs": [
        {
          "output_type": "stream",
          "name": "stdout",
          "text": [
            "Downloading...\n",
            "From: https://drive.google.com/uc?id=1xHX0Hj-iDniA_os8lOTw9x6yiboXj0Pe\n",
            "To: /content/verification_test.csv\n",
            "22.2MB [00:00, 135MB/s] \n"
          ]
        }
      ]
    },
    {
      "cell_type": "markdown",
      "metadata": {
        "id": "vy9i_zJN2x3K"
      },
      "source": [
        "# **Imports**\n",
        "\n",
        "---\n",
        "\n"
      ]
    },
    {
      "cell_type": "code",
      "metadata": {
        "id": "lM5m3zgwP61m"
      },
      "source": [
        "import pandas as pd\n",
        "import numpy as np\n",
        "\n",
        "import torch\n",
        "import torch.nn as nn\n",
        "import torch.nn.functional as F\n",
        "import torch.optim as optim\n",
        "from torch.optim import lr_scheduler\n",
        "from torch.autograd import Variable\n",
        "from torch.utils.data import DataLoader, Dataset\n",
        "from torchvision import transforms\n",
        "from torchvision.utils import make_grid\n",
        "\n",
        "import math\n",
        "import random\n",
        "\n",
        "from PIL import Image, ImageOps, ImageEnhance\n",
        "import numbers\n",
        "\n",
        "import matplotlib.pyplot as plt\n",
        "%matplotlib inline"
      ],
      "execution_count": 9,
      "outputs": []
    },
    {
      "cell_type": "code",
      "metadata": {
        "colab": {
          "base_uri": "https://localhost:8080/"
        },
        "id": "YMk0J-nr6E7-",
        "outputId": "dfbd36fc-ea6e-4e8d-ccd7-2a65a71de301"
      },
      "source": [
        "train_df = pd.read_csv('verification_train.csv')\n",
        "\n",
        "n_train = len(train_df)\n",
        "n_pixels = len(train_df.columns) - 1\n",
        "n_class = len(set(train_df['label']))\n",
        "\n",
        "print('Number of training samples: {0}'.format(n_train))\n",
        "print('Number of training pixels: {0}'.format(n_pixels))\n",
        "print('Number of classes: {0}'.format(n_class))"
      ],
      "execution_count": 10,
      "outputs": [
        {
          "output_type": "stream",
          "name": "stdout",
          "text": [
            "Number of training samples: 60000\n",
            "Number of training pixels: 784\n",
            "Number of classes: 10\n"
          ]
        }
      ]
    },
    {
      "cell_type": "code",
      "metadata": {
        "colab": {
          "base_uri": "https://localhost:8080/"
        },
        "id": "C1JkRWLQ6koX",
        "outputId": "ea4cca28-39fa-4d3c-cd35-7f1840ed17d4"
      },
      "source": [
        "test_df = pd.read_csv('verification_test.csv')\n",
        "\n",
        "n_test = len(test_df)\n",
        "n_pixels = len(test_df.columns)-1\n",
        "n_class = len(set(train_df['label']))\n",
        "\n",
        "print('Number of train samples: {0}'.format(n_test))\n",
        "print('Number of test pixels: {0}'.format(n_pixels))\n",
        "print('Number of classes: {0}'.format(n_class))"
      ],
      "execution_count": 11,
      "outputs": [
        {
          "output_type": "stream",
          "name": "stdout",
          "text": [
            "Number of train samples: 10000\n",
            "Number of test pixels: 784\n",
            "Number of classes: 10\n"
          ]
        }
      ]
    },
    {
      "cell_type": "markdown",
      "metadata": {
        "id": "FLiAA5tI9TWH"
      },
      "source": [
        "# **Data Visualization**\n",
        "\n",
        "---\n",
        "\n"
      ]
    },
    {
      "cell_type": "code",
      "metadata": {
        "colab": {
          "base_uri": "https://localhost:8080/",
          "height": 339
        },
        "id": "_2_sG-nkMzNw",
        "outputId": "559de4fd-822c-4523-c7e6-e12b9256e603"
      },
      "source": [
        "plt.rcParams['figure.figsize'] = (8, 5)\n",
        "plt.bar(train_df['label'].value_counts().index, train_df['label'].value_counts())\n",
        "plt.xticks(np.arange(n_class))\n",
        "plt.xlabel('Class', fontsize=16)\n",
        "plt.ylabel('Count', fontsize=16)\n",
        "plt.grid('on', axis='y')"
      ],
      "execution_count": 12,
      "outputs": [
        {
          "output_type": "display_data",
          "data": {
            "image/png": "[encoded data removed]",
            "text/plain": [
              "<Figure size 576x360 with 1 Axes>"
            ]
          },
          "metadata": {
            "needs_background": "light"
          }
        }
      ]
    },
    {
      "cell_type": "code",
      "metadata": {
        "colab": {
          "base_uri": "https://localhost:8080/",
          "height": 157
        },
        "id": "JgA6yiqQ650c",
        "outputId": "0f6026a3-0e5d-4b13-9126-940c1c6baa9a"
      },
      "source": [
        "random_sel = np.random.randint(n_train, size=8)\n",
        "\n",
        "grid = make_grid(torch.Tensor((train_df.iloc[random_sel, 1:].values/255.).reshape((-1, 28, 28))).unsqueeze(1), nrow=8)\n",
        "plt.rcParams['figure.figsize'] = (16, 2)\n",
        "plt.imshow(grid.numpy().transpose((1,2,0)))\n",
        "plt.axis('off')\n",
        "print(*list(train_df.iloc[random_sel, 0].values), sep = ', ')"
      ],
      "execution_count": 13,
      "outputs": [
        {
          "output_type": "stream",
          "name": "stdout",
          "text": [
            "7, 2, 0, 7, 4, 8, 6, 9\n"
          ]
        },
        {
          "output_type": "display_data",
          "data": {
            "image/png": "[encoded data removed]",
            "text/plain": [
              "<Figure size 1152x144 with 1 Axes>"
            ]
          },
          "metadata": {
            "needs_background": "light"
          }
        }
      ]
    },
    {
      "cell_type": "markdown",
      "metadata": {
        "id": "mdAwK4i9hSlj"
      },
      "source": [
        "# **Data Preprocessing**\n",
        "\n",
        "---\n",
        "\n"
      ]
    },
    {
      "cell_type": "code",
      "metadata": {
        "id": "telGPHINZJgx"
      },
      "source": [
        "class processDataset(Dataset):\n",
        "    \n",
        "    def __init__(self, file_path, \n",
        "                 transform = transforms.Compose([transforms.ToPILImage(), transforms.ToTensor(), \n",
        "                     transforms.Normalize(mean=(0.5,), std=(0.5,))])\n",
        "                ):\n",
        "        \n",
        "        df = pd.read_csv(file_path)\n",
        "        \n",
        "        # training data\n",
        "        self.X = df.iloc[:,1:].values.reshape((-1,28,28)).astype(np.uint8)[:,:,:,None]\n",
        "        self.y = torch.from_numpy(df.iloc[:,0].values)\n",
        "            \n",
        "        self.transform = transform\n",
        "    \n",
        "    def __len__(self):\n",
        "        return len(self.X)\n",
        "\n",
        "    def __getitem__(self, idx):\n",
        "        return self.transform(self.X[idx]), self.y[idx]"
      ],
      "execution_count": 14,
      "outputs": []
    },
    {
      "cell_type": "code",
      "metadata": {
        "id": "__Xdm56fcj1k"
      },
      "source": [
        "train_dataset = processDataset('verification_train.csv', transform= transforms.Compose(\n",
        "                            [transforms.ToPILImage(),\n",
        "                            transforms.ToTensor(), \n",
        "                            transforms.Normalize(mean=(0.5,), std=(0.5,))]))\n",
        "test_dataset = processDataset('verification_test.csv', transform= transforms.Compose(\n",
        "                            [transforms.ToPILImage(),\n",
        "                            transforms.ToTensor(), \n",
        "                            transforms.Normalize(mean=(0.5,), std=(0.5,))]))"
      ],
      "execution_count": 15,
      "outputs": []
    },
    {
      "cell_type": "code",
      "metadata": {
        "colab": {
          "base_uri": "https://localhost:8080/"
        },
        "id": "piGp-i0Johe6",
        "outputId": "556a2a5c-47cd-4464-90cc-cc9656b51f80"
      },
      "source": [
        "print(len(train_dataset), len(test_dataset))"
      ],
      "execution_count": 16,
      "outputs": [
        {
          "output_type": "stream",
          "name": "stdout",
          "text": [
            "60000 10000\n"
          ]
        }
      ]
    },
    {
      "cell_type": "markdown",
      "metadata": {
        "id": "muXO0kOLMQ4_"
      },
      "source": [
        "# **EXP_03_model_1**\n",
        "\n",
        "---\n",
        "\n"
      ]
    },
    {
      "cell_type": "code",
      "metadata": {
        "id": "bLtFdOPL-DMD"
      },
      "source": [
        "# Hyperparameters\n",
        "batch_size = 20\n",
        "num_iters = 20000\n",
        "input_dim = 28*28\n",
        "output_dim = 10\n",
        "learning_rate = 0.01"
      ],
      "execution_count": 17,
      "outputs": []
    },
    {
      "cell_type": "code",
      "metadata": {
        "colab": {
          "base_uri": "https://localhost:8080/"
        },
        "id": "bRU8s_P69waA",
        "outputId": "55df577e-e5d1-43bd-f4fb-83433135710e"
      },
      "source": [
        "device = torch.device(\"cuda:0\" if torch.cuda.is_available() else \"cpu\")\n",
        "\n",
        "num_epochs = num_iters / (len(train_dataset) / batch_size)\n",
        "num_epochs = int(num_epochs)\n",
        "\n",
        "train_loader = torch.utils.data.DataLoader(dataset=train_dataset, \n",
        "                                           batch_size=batch_size, \n",
        "                                           shuffle=True)\n",
        "\n",
        "test_loader = torch.utils.data.DataLoader(dataset=test_dataset, \n",
        "                                          batch_size=batch_size, \n",
        "                                          shuffle=False) \n",
        "\n",
        "class DeepNeuralNetworkModel(nn.Module):\n",
        "    def __init__(self, input_size, num_classes):\n",
        "        super().__init__()\n",
        "        self.linear_1 = nn.Linear(input_size, 82)\n",
        "        self.relu_1 = nn.ReLU()\n",
        "\n",
        "        self.linear_2 = nn.Linear(82, 40)\n",
        "        self.relu_2 = nn.ReLU()\n",
        "\n",
        "        self.linear_3 = nn.Linear(40, 30)\n",
        "        self.relu_3 = nn.ReLU()\n",
        "\n",
        "        self.linear_4 = nn.Linear(30, 20)\n",
        "        self.relu_4 = nn.ReLU()\n",
        "\n",
        "        self.linear_5 = nn.Linear(20, 16)\n",
        "        self.relu_5 = nn.ReLU()\n",
        "\n",
        "        self.linear_6 = nn.Linear(16, 12)\n",
        "        self.relu_6 = nn.ReLU()\n",
        "\n",
        "        self.linear_out = nn.Linear(12, num_classes)\n",
        "\n",
        "    def forward(self, x):\n",
        "        \n",
        "        out  = self.linear_1(x)\n",
        "        out = self.relu_1(out)\n",
        "        \n",
        "        out  = self.linear_2(out)\n",
        "        out = self.relu_2(out)\n",
        "\n",
        "        out  = self.linear_3(out)\n",
        "        out = self.relu_3(out)\n",
        "\n",
        "        out  = self.linear_4(out)\n",
        "        out = self.relu_4(out)\n",
        "\n",
        "        out  = self.linear_5(out)\n",
        "        out = self.relu_5(out)\n",
        "\n",
        "        out  = self.linear_6(out)\n",
        "        out = self.relu_6(out)\n",
        "        \n",
        "        probas  = self.linear_out(out)\n",
        "        return probas\n",
        "\n",
        "# INSTANTIATE MODEL CLASS\n",
        "\n",
        "model = DeepNeuralNetworkModel(input_size = input_dim,\n",
        "                               num_classes = output_dim)\n",
        "# To enable GPU\n",
        "model.to(device)\n",
        "\n",
        "# INSTANTIATE LOSS & OPTIMIZER CLASS\n",
        "criterion = nn.CrossEntropyLoss()\n",
        "optimizer = torch.optim.SGD(model.parameters(), lr=learning_rate)\n",
        "\n",
        "iter = 0\n",
        "test_loss_min = 9999999\n",
        "iter_data,train_loss_data, test_loss_data, acc_data = [], [], [], []\n",
        "\n",
        "for epoch in range(num_epochs):\n",
        "    train_loss = 0.0\n",
        "    test_loss = 0.0\n",
        "    for i, (images, labels) in enumerate(train_loader):\n",
        "\n",
        "        images = images.view(-1, input_dim).to(device)\n",
        "        labels = labels.to(device)\n",
        "\n",
        "        # Clear gradients w.r.t. parameters\n",
        "        optimizer.zero_grad()\n",
        "\n",
        "        # Forward pass to get output/logits\n",
        "        outputs = model(images) \n",
        "\n",
        "        # Calculate Loss: softmax --> cross entropy loss\n",
        "        loss = criterion(outputs, labels)\n",
        "\n",
        "        # Getting gradients w.r.t. parameters\n",
        "        loss.backward()\n",
        "\n",
        "        # Updating parameters\n",
        "        optimizer.step()\n",
        "\n",
        "        train_loss += loss.item() * images.size(0)\n",
        "\n",
        "        iter += 1\n",
        "\n",
        "        if iter % 500 == 0:\n",
        "            # Calculate Accuracy         \n",
        "            correct = 0\n",
        "            total = 0\n",
        "            # Iterate through test dataset\n",
        "            for images, labels in test_loader:\n",
        "               \n",
        "                images = images.view(-1, input_dim).to(device)\n",
        "                labels = labels.to(device)\n",
        "\n",
        "                # Forward pass only to get logits/output\n",
        "                outputs = model(images)\n",
        "\n",
        "                loss = criterion(outputs, labels)\n",
        "\n",
        "                test_loss += loss.item() * images.size(0)\n",
        "\n",
        "                # Get predictions from the maximum value\n",
        "                _, predicted = torch.max(outputs, 1)\n",
        "\n",
        "                # Total number of labels\n",
        "                total += labels.size(0)\n",
        "\n",
        "\n",
        "                # Total correct predictions\n",
        "                if torch.cuda.is_available():\n",
        "                    correct += (predicted.cpu() == labels.cpu()).sum() \n",
        "                else:\n",
        "                    correct += (predicted == labels).sum()\n",
        "\n",
        "            train_loss = train_loss / len(train_loader.dataset)\n",
        "            test_loss = test_loss / len(test_loader.dataset)\n",
        "            train_loss_data.append(train_loss)\n",
        "            test_loss_data.append(test_loss)\n",
        "            accuracy = 100 * correct.item() / total\n",
        "            acc_data.append(accuracy)\n",
        "            iter_data.append(iter)\n",
        "\n",
        "            # Print Loss\n",
        "            print('Iteration: {}. Train_Loss: {}. Valid_Loss: {}. Accuracy: {}'.format(iter, train_loss, test_loss, accuracy))\n",
        "\n",
        "            if test_loss <= test_loss_min:\n",
        "              print('***Validation loss decreased ({:.6f} --> {:.6f}). Saving model ...***'.format(test_loss_min,test_loss))\n",
        "              torch.save(model.state_dict(), 'EXP_02_trial_2.pt')\n",
        "              test_loss_min = test_loss"
      ],
      "execution_count": 18,
      "outputs": [
        {
          "output_type": "stream",
          "name": "stdout",
          "text": [
            "Iteration: 500. Train_Loss: 0.3851748254299164. Valid_Loss: 2.30674963760376. Accuracy: 10.0\n",
            "***Validation loss decreased (9999999.000000 --> 2.306750). Saving model ...***\n",
            "Iteration: 1000. Train_Loss: 0.38413528911396266. Valid_Loss: 2.302654323797989. Accuracy: 10.0\n",
            "***Validation loss decreased (2.306750 --> 2.302654). Saving model ...***\n",
            "Iteration: 1500. Train_Loss: 0.3835071307030506. Valid_Loss: 2.2998428953228216. Accuracy: 10.32\n",
            "***Validation loss decreased (2.302654 --> 2.299843). Saving model ...***\n",
            "Iteration: 2000. Train_Loss: 0.38288635955449873. Valid_Loss: 2.292430221086865. Accuracy: 19.21\n",
            "***Validation loss decreased (2.299843 --> 2.292430). Saving model ...***\n",
            "Iteration: 2500. Train_Loss: 0.37939695494091286. Valid_Loss: 2.2402411601363665. Accuracy: 19.83\n",
            "***Validation loss decreased (2.292430 --> 2.240241). Saving model ...***\n",
            "Iteration: 3000. Train_Loss: 0.337580548469884. Valid_Loss: 1.7351479168524486. Accuracy: 21.24\n",
            "***Validation loss decreased (2.240241 --> 1.735148). Saving model ...***\n",
            "Iteration: 3500. Train_Loss: 0.2610265432198842. Valid_Loss: 1.378574725151062. Accuracy: 37.53\n",
            "***Validation loss decreased (1.735148 --> 1.378575). Saving model ...***\n",
            "Iteration: 4000. Train_Loss: 0.2150630723821097. Valid_Loss: 1.0884338914509772. Accuracy: 52.9\n",
            "***Validation loss decreased (1.378575 --> 1.088434). Saving model ...***\n",
            "Iteration: 4500. Train_Loss: 0.19247811889610586. Valid_Loss: 1.0588033702999269. Accuracy: 54.31\n",
            "***Validation loss decreased (1.088434 --> 1.058803). Saving model ...***\n",
            "Iteration: 5000. Train_Loss: 0.17585318874018988. Valid_Loss: 0.9606861957481208. Accuracy: 58.94\n",
            "***Validation loss decreased (1.058803 --> 0.960686). Saving model ...***\n",
            "Iteration: 5500. Train_Loss: 0.16571421991480564. Valid_Loss: 0.9265996721971885. Accuracy: 64.27\n",
            "***Validation loss decreased (0.960686 --> 0.926600). Saving model ...***\n",
            "Iteration: 6000. Train_Loss: 0.1518705924682436. Valid_Loss: 0.8339100241830705. Accuracy: 68.05\n",
            "***Validation loss decreased (0.926600 --> 0.833910). Saving model ...***\n",
            "Iteration: 6500. Train_Loss: 0.1451571183602015. Valid_Loss: 0.8571387420296669. Accuracy: 63.81\n",
            "Iteration: 7000. Train_Loss: 0.13578476055694488. Valid_Loss: 0.7409413272846759. Accuracy: 72.97\n",
            "***Validation loss decreased (0.833910 --> 0.740941). Saving model ...***\n",
            "Iteration: 7500. Train_Loss: 0.12421580426917213. Valid_Loss: 0.6991027679305742. Accuracy: 74.59\n",
            "***Validation loss decreased (0.740941 --> 0.699103). Saving model ...***\n",
            "Iteration: 8000. Train_Loss: 0.11383899445372705. Valid_Loss: 0.6768504260965811. Accuracy: 76.16\n",
            "***Validation loss decreased (0.699103 --> 0.676850). Saving model ...***\n",
            "Iteration: 8500. Train_Loss: 0.10749510211884893. Valid_Loss: 0.5993146126019854. Accuracy: 79.23\n",
            "***Validation loss decreased (0.676850 --> 0.599315). Saving model ...***\n",
            "Iteration: 9000. Train_Loss: 0.0998352684960238. Valid_Loss: 0.5986566979629253. Accuracy: 80.16\n",
            "***Validation loss decreased (0.599315 --> 0.598657). Saving model ...***\n",
            "Iteration: 9500. Train_Loss: 0.09801634494960308. Valid_Loss: 0.5821766366958618. Accuracy: 79.95\n",
            "***Validation loss decreased (0.598657 --> 0.582177). Saving model ...***\n",
            "Iteration: 10000. Train_Loss: 0.09647591108221883. Valid_Loss: 0.5523743557523727. Accuracy: 79.59\n",
            "***Validation loss decreased (0.582177 --> 0.552374). Saving model ...***\n",
            "Iteration: 10500. Train_Loss: 0.09106975747615001. Valid_Loss: 0.5203657543294389. Accuracy: 82.42\n",
            "***Validation loss decreased (0.552374 --> 0.520366). Saving model ...***\n",
            "Iteration: 11000. Train_Loss: 0.08511263933975721. Valid_Loss: 0.5206258499989473. Accuracy: 82.27\n",
            "Iteration: 11500. Train_Loss: 0.08587588961237126. Valid_Loss: 0.49170863698327905. Accuracy: 83.73\n",
            "***Validation loss decreased (0.520366 --> 0.491709). Saving model ...***\n",
            "Iteration: 12000. Train_Loss: 0.08422103423212887. Valid_Loss: 0.5022471292883857. Accuracy: 82.66\n",
            "Iteration: 12500. Train_Loss: 0.07880262441933156. Valid_Loss: 0.5103735781759023. Accuracy: 82.08\n",
            "Iteration: 13000. Train_Loss: 0.08219877650454764. Valid_Loss: 0.4947996058777675. Accuracy: 83.62\n",
            "Iteration: 13500. Train_Loss: 0.08101133204909997. Valid_Loss: 0.4933911093316348. Accuracy: 82.58\n",
            "Iteration: 14000. Train_Loss: 0.07573924164560064. Valid_Loss: 0.4525254073990211. Accuracy: 84.99\n",
            "***Validation loss decreased (0.491709 --> 0.452525). Saving model ...***\n",
            "Iteration: 14500. Train_Loss: 0.07706633328509009. Valid_Loss: 0.4716315215170706. Accuracy: 83.79\n",
            "Iteration: 15000. Train_Loss: 0.07498785461835052. Valid_Loss: 0.46891351344531124. Accuracy: 84.29\n",
            "Iteration: 15500. Train_Loss: 0.07298795038213332. Valid_Loss: 0.45300134930014613. Accuracy: 84.94\n",
            "Iteration: 16000. Train_Loss: 0.07276167311480539. Valid_Loss: 0.4287027529268593. Accuracy: 85.43\n",
            "***Validation loss decreased (0.452525 --> 0.428703). Saving model ...***\n",
            "Iteration: 16500. Train_Loss: 0.07039568533331789. Valid_Loss: 0.42661343731692813. Accuracy: 85.75\n",
            "***Validation loss decreased (0.428703 --> 0.426613). Saving model ...***\n",
            "Iteration: 17000. Train_Loss: 0.06988679912549088. Valid_Loss: 0.4243158144699715. Accuracy: 85.71\n",
            "***Validation loss decreased (0.426613 --> 0.424316). Saving model ...***\n",
            "Iteration: 17500. Train_Loss: 0.06919700664870389. Valid_Loss: 0.454463112596104. Accuracy: 84.45\n",
            "Iteration: 18000. Train_Loss: 0.07380079428913902. Valid_Loss: 0.4218921668577436. Accuracy: 85.4\n",
            "***Validation loss decreased (0.424316 --> 0.421892). Saving model ...***\n"
          ]
        }
      ]
    },
    {
      "cell_type": "markdown",
      "metadata": {
        "id": "59bFd5eI3dOh"
      },
      "source": [
        "## **Loss Graph**\n",
        "\n",
        "---\n",
        "\n"
      ]
    },
    {
      "cell_type": "code",
      "metadata": {
        "id": "o2z5ysMtLrf5",
        "colab": {
          "base_uri": "https://localhost:8080/",
          "height": 187
        },
        "outputId": "92013753-a0ec-4938-a716-0a92f025a2cb"
      },
      "source": [
        "plt.plot(iter_data, train_loss_data, 'c', label='Training loss')\n",
        "plt.plot(iter_data, test_loss_data, 'm', label='validation loss')\n",
        "plt.title('Training and Validation loss')\n",
        "plt.xlabel('Iteration')\n",
        "plt.ylabel('Loss')\n",
        "plt.legend()\n",
        "plt.show()"
      ],
      "execution_count": 21,
      "outputs": [
        {
          "output_type": "display_data",
          "data": {
            "image/png": "[encoded data removed]",
            "text/plain": [
              "<Figure size 1152x144 with 1 Axes>"
            ]
          },
          "metadata": {
            "needs_background": "light"
          }
        }
      ]
    },
    {
      "cell_type": "markdown",
      "metadata": {
        "id": "8Ln4MpL_8CQE"
      },
      "source": [
        "## **Accuracy Graph**\n",
        "\n",
        "---\n",
        "\n"
      ]
    },
    {
      "cell_type": "code",
      "metadata": {
        "colab": {
          "base_uri": "https://localhost:8080/",
          "height": 187
        },
        "id": "x4c3euLUKVmR",
        "outputId": "eb38483f-2a34-4049-f844-4407bb1adf89"
      },
      "source": [
        "plt.plot(iter_data, acc_data, 'g', label='Accuracy')\n",
        "plt.title('Accuracy Graph')\n",
        "plt.xlabel('Iteration')\n",
        "plt.ylabel('Accuracy')\n",
        "plt.legend()\n",
        "plt.show()"
      ],
      "execution_count": 22,
      "outputs": [
        {
          "output_type": "display_data",
          "data": {
            "image/png": "[encoded data removed]",
            "text/plain": [
              "<Figure size 1152x144 with 1 Axes>"
            ]
          },
          "metadata": {
            "needs_background": "light"
          }
        }
      ]
    },
    {
      "cell_type": "markdown",
      "metadata": {
        "id": "ooaWornKkW2d"
      },
      "source": [
        "# **EXP_03_model_2**\n",
        "\n",
        "---\n",
        "\n"
      ]
    },
    {
      "cell_type": "code",
      "metadata": {
        "id": "Beni7LRjkdTr"
      },
      "source": [
        "# Hyperparameters\n",
        "batch_size = 100\n",
        "num_iters = 60000\n",
        "input_dim = 28*28\n",
        "output_dim = 10\n",
        "learning_rate = 0.05"
      ],
      "execution_count": 24,
      "outputs": []
    },
    {
      "cell_type": "code",
      "metadata": {
        "colab": {
          "base_uri": "https://localhost:8080/"
        },
        "id": "k7N6wsEtki3o",
        "outputId": "aa02bcf1-7215-4367-e1f0-22ed80e8dd50"
      },
      "source": [
        "device = torch.device(\"cuda:0\" if torch.cuda.is_available() else \"cpu\")\n",
        "\n",
        "num_epochs = num_iters / (len(train_dataset) / batch_size)\n",
        "num_epochs = int(num_epochs)\n",
        "\n",
        "train_loader = torch.utils.data.DataLoader(dataset=train_dataset, \n",
        "                                           batch_size=batch_size, \n",
        "                                           shuffle=True)\n",
        "\n",
        "test_loader = torch.utils.data.DataLoader(dataset=test_dataset, \n",
        "                                          batch_size=batch_size, \n",
        "                                          shuffle=False) \n",
        "\n",
        "class DeepNeuralNetworkModel(nn.Module):\n",
        "    def __init__(self, input_size, num_classes):\n",
        "        super().__init__()\n",
        "        self.linear_1 = nn.Linear(input_size, 512)\n",
        "        self.relu_1 = nn.ReLU()\n",
        "\n",
        "        self.linear_2 = nn.Linear(512, 256)\n",
        "        self.relu_2 = nn.ReLU()\n",
        "\n",
        "        self.linear_3 = nn.Linear(256, 128)\n",
        "        self.relu_3 = nn.ReLU()\n",
        "\n",
        "        self.linear_4 = nn.Linear(128, 32)\n",
        "        self.relu_4 = nn.ReLU()\n",
        "\n",
        "        self.linear_out = nn.Linear(32, num_classes)\n",
        "        self.relu_out = nn.ReLU()\n",
        "\n",
        "    def forward(self, x):\n",
        "        \n",
        "        out  = self.linear_1(x)\n",
        "        out = self.relu_1(out)\n",
        "        \n",
        "        out  = self.linear_2(out)\n",
        "        out = self.relu_2(out)\n",
        "\n",
        "        out  = self.linear_3(out)\n",
        "        out = self.relu_3(out)\n",
        "\n",
        "        out  = self.linear_4(out)\n",
        "        out = self.relu_4(out)\n",
        "\n",
        "        probas  = self.linear_out(out)\n",
        "        probas  = self.relu_out(out)\n",
        "        return probas\n",
        "\n",
        "# INSTANTIATE MODEL CLASS\n",
        "\n",
        "model = DeepNeuralNetworkModel(input_size = input_dim,\n",
        "                               num_classes = output_dim)\n",
        "# To enable GPU\n",
        "model.to(device)\n",
        "\n",
        "# INSTANTIATE LOSS & OPTIMIZER CLASS\n",
        "criterion = nn.CrossEntropyLoss()\n",
        "optimizer = torch.optim.SGD(model.parameters(), lr=learning_rate)\n",
        "\n",
        "iter = 0\n",
        "test_loss_min = 9999999\n",
        "iter_data,train_loss_data, test_loss_data, acc_data = [], [], [], []\n",
        "\n",
        "for epoch in range(num_epochs):\n",
        "    train_loss = 0.0\n",
        "    test_loss = 0.0\n",
        "    for i, (images, labels) in enumerate(train_loader):\n",
        "\n",
        "        images = images.view(-1, input_dim).to(device)\n",
        "        labels = labels.to(device)\n",
        "\n",
        "        # Clear gradients w.r.t. parameters\n",
        "        optimizer.zero_grad()\n",
        "\n",
        "        # Forward pass to get output/logits\n",
        "        outputs = model(images) \n",
        "\n",
        "        # Calculate Loss: softmax --> cross entropy loss\n",
        "        loss = criterion(outputs, labels)\n",
        "\n",
        "        # Getting gradients w.r.t. parameters\n",
        "        loss.backward()\n",
        "\n",
        "        # Updating parameters\n",
        "        optimizer.step()\n",
        "\n",
        "        train_loss += loss.item() * images.size(0)\n",
        "\n",
        "        iter += 1\n",
        "\n",
        "        if iter % 500 == 0:\n",
        "            # Calculate Accuracy         \n",
        "            correct = 0\n",
        "            total = 0\n",
        "            # Iterate through test dataset\n",
        "            for images, labels in test_loader:\n",
        "               \n",
        "                images = images.view(-1, input_dim).to(device)\n",
        "                labels = labels.to(device)\n",
        "\n",
        "                # Forward pass only to get logits/output\n",
        "                outputs = model(images)\n",
        "\n",
        "                loss = criterion(outputs, labels)\n",
        "\n",
        "                test_loss += loss.item() * images.size(0)\n",
        "\n",
        "                # Get predictions from the maximum value\n",
        "                _, predicted = torch.max(outputs, 1)\n",
        "\n",
        "                # Total number of labels\n",
        "                total += labels.size(0)\n",
        "\n",
        "\n",
        "                # Total correct predictions\n",
        "                if torch.cuda.is_available():\n",
        "                    correct += (predicted.cpu() == labels.cpu()).sum() \n",
        "                else:\n",
        "                    correct += (predicted == labels).sum()\n",
        "\n",
        "            train_loss = train_loss / len(train_loader.dataset)\n",
        "            test_loss = test_loss / len(test_loader.dataset)\n",
        "            train_loss_data.append(train_loss)\n",
        "            test_loss_data.append(test_loss)\n",
        "            accuracy = 100 * correct.item() / total\n",
        "            acc_data.append(accuracy)\n",
        "            iter_data.append(iter)\n",
        "\n",
        "            # Print Loss\n",
        "            print('Iteration: {}. Train_Loss: {}. Valid_Loss: {}. Accuracy: {}'.format(iter, train_loss, test_loss, accuracy))\n",
        "\n",
        "            if test_loss <= test_loss_min:\n",
        "              print('***Validation loss decreased ({:.6f} --> {:.6f}). Saving model ...***'.format(test_loss_min,test_loss))\n",
        "              torch.save(model.state_dict(), 'EXP_02_trial_2.pt')\n",
        "              test_loss_min = test_loss"
      ],
      "execution_count": 25,
      "outputs": [
        {
          "output_type": "stream",
          "name": "stdout",
          "text": [
            "Iteration: 500. Train_Loss: 1.1893640646338464. Valid_Loss: 0.6079896345734597. Accuracy: 77.26\n",
            "***Validation loss decreased (9999999.000000 --> 0.607990). Saving model ...***\n",
            "Iteration: 1000. Train_Loss: 0.33396516238649687. Valid_Loss: 0.45776187479496. Accuracy: 83.24\n",
            "***Validation loss decreased (0.607990 --> 0.457762). Saving model ...***\n",
            "Iteration: 1500. Train_Loss: 0.2161731866498788. Valid_Loss: 0.47941465497016905. Accuracy: 82.19\n",
            "Iteration: 2000. Train_Loss: 0.12783290160199007. Valid_Loss: 0.3841284739971161. Accuracy: 86.08\n",
            "***Validation loss decreased (0.457762 --> 0.384128). Saving model ...***\n",
            "Iteration: 2500. Train_Loss: 0.061097621073325475. Valid_Loss: 0.373160986751318. Accuracy: 86.47\n",
            "***Validation loss decreased (0.384128 --> 0.373161). Saving model ...***\n",
            "Iteration: 3000. Train_Loss: 0.2984798133849957. Valid_Loss: 0.35197699443982544. Accuracy: 87.35\n",
            "***Validation loss decreased (0.373161 --> 0.351977). Saving model ...***\n",
            "Iteration: 3500. Train_Loss: 0.2821268276621898. Valid_Loss: 0.335465304851532. Accuracy: 87.77\n",
            "***Validation loss decreased (0.351977 --> 0.335465). Saving model ...***\n",
            "Iteration: 4000. Train_Loss: 0.21786531778673332. Valid_Loss: 0.3628463140130043. Accuracy: 86.61\n",
            "Iteration: 4500. Train_Loss: 0.1527358623345693. Valid_Loss: 0.32643276736140253. Accuracy: 87.88\n",
            "***Validation loss decreased (0.335465 --> 0.326433). Saving model ...***\n",
            "Iteration: 5000. Train_Loss: 0.10054753688474496. Valid_Loss: 0.32716903924942015. Accuracy: 87.89\n",
            "Iteration: 5500. Train_Loss: 0.04719207692891359. Valid_Loss: 0.31573299050331116. Accuracy: 88.44\n",
            "***Validation loss decreased (0.326433 --> 0.315733). Saving model ...***\n",
            "Iteration: 6000. Train_Loss: 0.23741843475815466. Valid_Loss: 0.34414207992303375. Accuracy: 87.16\n",
            "Iteration: 6500. Train_Loss: 0.22809657284369073. Valid_Loss: 0.31991764575243. Accuracy: 88.23\n",
            "Iteration: 7000. Train_Loss: 0.17690463665872813. Valid_Loss: 0.3043068669736385. Accuracy: 88.71\n",
            "***Validation loss decreased (0.315733 --> 0.304307). Saving model ...***\n",
            "Iteration: 7500. Train_Loss: 0.12895953471461932. Valid_Loss: 0.3113314662873745. Accuracy: 88.56\n",
            "Iteration: 8000. Train_Loss: 0.07948302344729503. Valid_Loss: 0.3090493768453598. Accuracy: 88.62\n",
            "Iteration: 8500. Train_Loss: 0.03816564731299877. Valid_Loss: 0.2983228165656328. Accuracy: 89.04\n",
            "***Validation loss decreased (0.304307 --> 0.298323). Saving model ...***\n",
            "Iteration: 9000. Train_Loss: 0.2000610285260367. Valid_Loss: 0.31001002237994224. Accuracy: 88.77\n",
            "Iteration: 9500. Train_Loss: 0.1911898458873232. Valid_Loss: 0.29213605090975764. Accuracy: 89.28\n",
            "***Validation loss decreased (0.298323 --> 0.292136). Saving model ...***\n",
            "Iteration: 10000. Train_Loss: 0.14611284676939248. Valid_Loss: 0.30974844068288804. Accuracy: 88.82\n",
            "Iteration: 10500. Train_Loss: 0.10659317685912052. Valid_Loss: 0.2765124796330929. Accuracy: 90.09\n",
            "***Validation loss decreased (0.292136 --> 0.276512). Saving model ...***\n",
            "Iteration: 11000. Train_Loss: 0.06863910151024659. Valid_Loss: 0.3047279971837997. Accuracy: 89.07\n",
            "Iteration: 11500. Train_Loss: 0.033153724242001775. Valid_Loss: 0.3023746830224991. Accuracy: 89.32\n",
            "Iteration: 12000. Train_Loss: 0.1706516838716396. Valid_Loss: 0.31263727005046604. Accuracy: 88.83\n",
            "Iteration: 12500. Train_Loss: 0.1614569353312254. Valid_Loss: 0.2859332066774368. Accuracy: 89.76\n",
            "Iteration: 13000. Train_Loss: 0.12485913420716921. Valid_Loss: 0.2989035896956921. Accuracy: 89.51\n",
            "Iteration: 13500. Train_Loss: 0.0878262680893143. Valid_Loss: 0.29379669323563573. Accuracy: 89.67\n",
            "Iteration: 14000. Train_Loss: 0.0561998089030385. Valid_Loss: 0.3582982197403908. Accuracy: 88.18\n",
            "Iteration: 14500. Train_Loss: 0.02896478820592165. Valid_Loss: 0.2969293987751007. Accuracy: 89.68\n",
            "Iteration: 15000. Train_Loss: 0.14272769531086893. Valid_Loss: 0.310595491147995. Accuracy: 89.55\n",
            "Iteration: 15500. Train_Loss: 0.13713264503826697. Valid_Loss: 0.29900721557438376. Accuracy: 89.62\n",
            "Iteration: 16000. Train_Loss: 0.10845752827823162. Valid_Loss: 0.40017587929964066. Accuracy: 87.64\n",
            "Iteration: 16500. Train_Loss: 0.07546935393164556. Valid_Loss: 0.36137201815843584. Accuracy: 88.6\n",
            "Iteration: 17000. Train_Loss: 0.04932122705814739. Valid_Loss: 0.39086477577686307. Accuracy: 87.49\n",
            "Iteration: 17500. Train_Loss: 0.024432441691557567. Valid_Loss: 0.29908165365457534. Accuracy: 89.92\n",
            "Iteration: 18000. Train_Loss: 0.12194200828259356. Valid_Loss: 0.31391193558278685. Accuracy: 89.61\n",
            "Iteration: 18500. Train_Loss: 0.11732713458438715. Valid_Loss: 0.5120592366158963. Accuracy: 85.69\n",
            "Iteration: 19000. Train_Loss: 0.08870530116992692. Valid_Loss: 0.3032250037044287. Accuracy: 90.31\n",
            "Iteration: 19500. Train_Loss: 0.06258490967253844. Valid_Loss: 0.3502563410997391. Accuracy: 88.72\n",
            "Iteration: 20000. Train_Loss: 0.04085193459565441. Valid_Loss: 0.3798840118199587. Accuracy: 88.48\n",
            "Iteration: 20500. Train_Loss: 0.021704410432527462. Valid_Loss: 0.3172786544263363. Accuracy: 89.85\n",
            "Iteration: 21000. Train_Loss: 0.10393794748518066. Valid_Loss: 0.326323707416758. Accuracy: 89.65\n",
            "Iteration: 21500. Train_Loss: 0.09919125016778707. Valid_Loss: 0.3612207890301943. Accuracy: 89.02\n",
            "Iteration: 22000. Train_Loss: 0.07407259217152994. Valid_Loss: 0.3093182398378849. Accuracy: 90.15\n",
            "Iteration: 22500. Train_Loss: 0.055068420323853694. Valid_Loss: 0.32836276970803735. Accuracy: 90.15\n",
            "Iteration: 23000. Train_Loss: 0.031184059999262295. Valid_Loss: 0.3433307880163193. Accuracy: 89.87\n",
            "Iteration: 23500. Train_Loss: 0.01593569421209395. Valid_Loss: 0.33885700039565564. Accuracy: 90.04\n",
            "Iteration: 24000. Train_Loss: 0.08584802790888539. Valid_Loss: 0.3319158475970551. Accuracy: 89.9\n",
            "Iteration: 24500. Train_Loss: 0.08328136820966998. Valid_Loss: 0.3345289617776871. Accuracy: 90.44\n",
            "Iteration: 25000. Train_Loss: 0.06016146972154578. Valid_Loss: 0.3515498624742031. Accuracy: 90.02\n",
            "Iteration: 25500. Train_Loss: 0.046938749961555004. Valid_Loss: 0.3628018266707659. Accuracy: 90.31\n",
            "Iteration: 26000. Train_Loss: 0.027361948698138197. Valid_Loss: 0.36484210401773454. Accuracy: 89.71\n",
            "Iteration: 26500. Train_Loss: 0.012710681163395444. Valid_Loss: 0.3711756366491318. Accuracy: 89.87\n",
            "Iteration: 27000. Train_Loss: 0.07527025180232365. Valid_Loss: 0.37242516744929555. Accuracy: 89.5\n",
            "Iteration: 27500. Train_Loss: 0.06620943592085192. Valid_Loss: 0.36054405465722084. Accuracy: 90.02\n",
            "Iteration: 28000. Train_Loss: 0.05175775336877753. Valid_Loss: 0.35959484048187734. Accuracy: 90.15\n",
            "Iteration: 28500. Train_Loss: 0.03730676039122045. Valid_Loss: 0.3554727050662041. Accuracy: 90.36\n",
            "Iteration: 29000. Train_Loss: 0.023326245279361803. Valid_Loss: 0.37976955473423. Accuracy: 90.18\n",
            "Iteration: 29500. Train_Loss: 0.01017324208902816. Valid_Loss: 0.3676516269147396. Accuracy: 90.23\n",
            "Iteration: 30000. Train_Loss: 0.059984778771728225. Valid_Loss: 0.4120712947592587. Accuracy: 89.77\n",
            "Iteration: 30500. Train_Loss: 0.05398547166958451. Valid_Loss: 0.38521482795476913. Accuracy: 90.25\n",
            "Iteration: 31000. Train_Loss: 0.04037088681788494. Valid_Loss: 0.3926363653689623. Accuracy: 89.95\n",
            "Iteration: 31500. Train_Loss: 0.029849635573724907. Valid_Loss: 0.4272570031136274. Accuracy: 89.59\n",
            "Iteration: 32000. Train_Loss: 0.018965690045927963. Valid_Loss: 0.40199692964553835. Accuracy: 90.1\n",
            "Iteration: 32500. Train_Loss: 0.008159010421174269. Valid_Loss: 0.38760330222547057. Accuracy: 90.45\n",
            "Iteration: 33000. Train_Loss: 0.05089055105222283. Valid_Loss: 0.4095286749561056. Accuracy: 90.05\n",
            "Iteration: 33500. Train_Loss: 0.04216529874480329. Valid_Loss: 0.43316675171256064. Accuracy: 90.27\n",
            "Iteration: 34000. Train_Loss: 0.032439945810474456. Valid_Loss: 0.4879619237780571. Accuracy: 89.88\n",
            "Iteration: 34500. Train_Loss: 0.02327168087863053. Valid_Loss: 0.41403285913169385. Accuracy: 90.27\n",
            "Iteration: 35000. Train_Loss: 0.016050741972091297. Valid_Loss: 0.42431744262576104. Accuracy: 90.51\n",
            "Iteration: 35500. Train_Loss: 0.0063062630190203585. Valid_Loss: 0.44227541886270044. Accuracy: 90.07\n",
            "Iteration: 36000. Train_Loss: 0.0475023795524357. Valid_Loss: 0.40795149676641074. Accuracy: 90.29\n",
            "Iteration: 36500. Train_Loss: 0.03342131700599566. Valid_Loss: 0.4499583311378956. Accuracy: 90.26\n",
            "Iteration: 37000. Train_Loss: 0.0294462723005563. Valid_Loss: 0.44845427200198174. Accuracy: 90.0\n",
            "Iteration: 37500. Train_Loss: 0.02043100244443243. Valid_Loss: 0.44497310429811476. Accuracy: 89.87\n",
            "Iteration: 38000. Train_Loss: 0.015230310462648049. Valid_Loss: 0.42794039979577064. Accuracy: 90.59\n",
            "Iteration: 38500. Train_Loss: 0.00564928833860904. Valid_Loss: 0.4655759336799383. Accuracy: 90.05\n",
            "Iteration: 39000. Train_Loss: 0.029724257116550037. Valid_Loss: 0.5535926259637103. Accuracy: 88.34\n",
            "Iteration: 39500. Train_Loss: 0.028614808156465492. Valid_Loss: 0.4899216274917126. Accuracy: 90.35\n",
            "Iteration: 40000. Train_Loss: 0.018238062941624472. Valid_Loss: 0.4883242539316416. Accuracy: 90.3\n",
            "Iteration: 40500. Train_Loss: 0.018240694139773646. Valid_Loss: 0.43964195899665354. Accuracy: 90.8\n",
            "Iteration: 41000. Train_Loss: 0.009709243423227841. Valid_Loss: 0.47972041852772235. Accuracy: 90.64\n",
            "Iteration: 41500. Train_Loss: 0.0039002060643785323. Valid_Loss: 0.4829702768474817. Accuracy: 90.63\n",
            "Iteration: 42000. Train_Loss: 0.02996766148661843. Valid_Loss: 0.4780966866562143. Accuracy: 90.29\n",
            "Iteration: 42500. Train_Loss: 0.022565959520288743. Valid_Loss: 0.48138842850923536. Accuracy: 90.16\n",
            "Iteration: 43000. Train_Loss: 0.016582962538911186. Valid_Loss: 0.5008924131095409. Accuracy: 90.42\n",
            "Iteration: 43500. Train_Loss: 0.011630120016440438. Valid_Loss: 0.4749634287506342. Accuracy: 90.46\n",
            "Iteration: 44000. Train_Loss: 0.006648870351879547. Valid_Loss: 0.5200383934378624. Accuracy: 90.48\n",
            "Iteration: 44500. Train_Loss: 0.003489238187709513. Valid_Loss: 0.5099885968118906. Accuracy: 90.56\n",
            "Iteration: 45000. Train_Loss: 0.025978027890141062. Valid_Loss: 0.5006015154054537. Accuracy: 90.44\n",
            "Iteration: 45500. Train_Loss: 0.02173788277277102. Valid_Loss: 0.5188890770077705. Accuracy: 90.41\n",
            "Iteration: 46000. Train_Loss: 0.012394634226996762. Valid_Loss: 0.508098878338933. Accuracy: 90.6\n",
            "Iteration: 46500. Train_Loss: 0.01321178077836521. Valid_Loss: 0.5671092581748962. Accuracy: 89.93\n",
            "Iteration: 47000. Train_Loss: 0.007626037356094457. Valid_Loss: 0.5510160405933857. Accuracy: 90.49\n",
            "Iteration: 47500. Train_Loss: 0.0025019650970352814. Valid_Loss: 0.5095567113906145. Accuracy: 90.75\n",
            "Iteration: 48000. Train_Loss: 0.015742332132390652. Valid_Loss: 0.5476332063556387. Accuracy: 90.49\n",
            "Iteration: 48500. Train_Loss: 0.008255107814475195. Valid_Loss: 0.5414341621100902. Accuracy: 90.79\n",
            "Iteration: 49000. Train_Loss: 0.010083522467709069. Valid_Loss: 0.5434379734843969. Accuracy: 90.44\n",
            "Iteration: 49500. Train_Loss: 0.014651045340579004. Valid_Loss: 0.5555981856584549. Accuracy: 89.63\n",
            "Iteration: 50000. Train_Loss: 0.003179583438904956. Valid_Loss: 0.539397077858448. Accuracy: 90.52\n",
            "Iteration: 50500. Train_Loss: 0.0008994642428782148. Valid_Loss: 0.5506143212318421. Accuracy: 90.63\n",
            "Iteration: 51000. Train_Loss: 0.004642881756762924. Valid_Loss: 0.5541682827496528. Accuracy: 90.6\n",
            "Iteration: 51500. Train_Loss: 0.0037578601365870173. Valid_Loss: 0.5669579534232616. Accuracy: 90.89\n",
            "Iteration: 52000. Train_Loss: 0.0021018086503318046. Valid_Loss: 0.5956226594746112. Accuracy: 90.55\n",
            "Iteration: 52500. Train_Loss: 0.005581808781134896. Valid_Loss: 0.5667107850313187. Accuracy: 90.71\n",
            "Iteration: 53000. Train_Loss: 0.0010388548004266341. Valid_Loss: 0.5921108140796423. Accuracy: 90.81\n",
            "Iteration: 53500. Train_Loss: 0.00022636755675193855. Valid_Loss: 0.5910413138568401. Accuracy: 90.82\n",
            "Iteration: 54000. Train_Loss: 0.001202520311480245. Valid_Loss: 0.5962336014377326. Accuracy: 90.91\n",
            "Iteration: 54500. Train_Loss: 0.0009210760799396667. Valid_Loss: 0.6147410080581903. Accuracy: 90.88\n",
            "Iteration: 55000. Train_Loss: 0.0007795067454693102. Valid_Loss: 0.6176744066178799. Accuracy: 90.82\n",
            "Iteration: 55500. Train_Loss: 0.00044000103800499344. Valid_Loss: 0.6284737487137317. Accuracy: 90.94\n",
            "Iteration: 56000. Train_Loss: 0.00021881446008895485. Valid_Loss: 0.6209443139284849. Accuracy: 90.87\n",
            "Iteration: 56500. Train_Loss: 9.713632500885675e-05. Valid_Loss: 0.6283822011202573. Accuracy: 90.88\n",
            "Iteration: 57000. Train_Loss: 0.0006485214182630265. Valid_Loss: 0.6356622735644504. Accuracy: 90.97\n",
            "Iteration: 57500. Train_Loss: 0.0006154441008645032. Valid_Loss: 0.630533954873681. Accuracy: 90.79\n",
            "Iteration: 58000. Train_Loss: 0.000458072761218015. Valid_Loss: 0.6402286962419749. Accuracy: 90.9\n",
            "Iteration: 58500. Train_Loss: 0.00026414533305796795. Valid_Loss: 0.6414678700268268. Accuracy: 90.84\n",
            "Iteration: 59000. Train_Loss: 0.00017466273203657086. Valid_Loss: 0.6433807318657636. Accuracy: 90.94\n",
            "Iteration: 59500. Train_Loss: 6.702361770294374e-05. Valid_Loss: 0.6479062861204148. Accuracy: 90.89\n",
            "Iteration: 60000. Train_Loss: 0.0004934821982116015. Valid_Loss: 0.6517757760805487. Accuracy: 90.87\n"
          ]
        }
      ]
    },
    {
      "cell_type": "markdown",
      "metadata": {
        "id": "r3OkI1J875jn"
      },
      "source": [
        "## **Loss Graph**\n",
        "\n",
        "---\n",
        "\n"
      ]
    },
    {
      "cell_type": "code",
      "metadata": {
        "colab": {
          "base_uri": "https://localhost:8080/",
          "height": 187
        },
        "id": "zDeq1QZ5tuah",
        "outputId": "d57878c5-e6e0-4bd8-a295-8a3ae8c68490"
      },
      "source": [
        "plt.plot(iter_data, train_loss_data, 'c', label='Training loss')\n",
        "plt.plot(iter_data, test_loss_data, 'm', label='validation loss')\n",
        "plt.title('Training and Validation loss')\n",
        "plt.xlabel('Iteration')\n",
        "plt.ylabel('Loss')\n",
        "plt.legend()\n",
        "plt.show()"
      ],
      "execution_count": 26,
      "outputs": [
        {
          "output_type": "display_data",
          "data": {
            "image/png": "[encoded data removed]",
            "text/plain": [
              "<Figure size 1152x144 with 1 Axes>"
            ]
          },
          "metadata": {
            "needs_background": "light"
          }
        }
      ]
    },
    {
      "cell_type": "markdown",
      "metadata": {
        "id": "6UZqwEqK3oOt"
      },
      "source": [
        "## **Accuracy Graph**\n",
        "\n",
        "---\n",
        "\n"
      ]
    },
    {
      "cell_type": "code",
      "metadata": {
        "colab": {
          "base_uri": "https://localhost:8080/",
          "height": 187
        },
        "id": "vcoK6poKtxlM",
        "outputId": "55432868-2e90-419d-a123-2ff5648c5498"
      },
      "source": [
        "plt.plot(iter_data, acc_data, 'g', label='Accuracy')\n",
        "plt.title('Accuracy Graph')\n",
        "plt.xlabel('Iteration')\n",
        "plt.ylabel('Accuracy')\n",
        "plt.legend()\n",
        "plt.show()"
      ],
      "execution_count": 27,
      "outputs": [
        {
          "output_type": "display_data",
          "data": {
            "image/png": "[encoded data removed]",
            "text/plain": [
              "<Figure size 1152x144 with 1 Axes>"
            ]
          },
          "metadata": {
            "needs_background": "light"
          }
        }
      ]
    },
    {
      "cell_type": "code",
      "metadata": {
        "id": "4ID3f4ULnrnS"
      },
      "source": [
        ""
      ],
      "execution_count": null,
      "outputs": []
    }
  ]
}